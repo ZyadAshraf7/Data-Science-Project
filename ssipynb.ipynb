{
  "nbformat": 4,
  "nbformat_minor": 0,
  "metadata": {
    "colab": {
      "provenance": [],
      "toc_visible": true,
      "include_colab_link": true
    },
    "kernelspec": {
      "name": "python3",
      "display_name": "Python 3"
    },
    "language_info": {
      "name": "python"
    },
    "accelerator": "TPU",
    "gpuClass": "standard"
  },
  "cells": [
    {
      "cell_type": "markdown",
      "metadata": {
        "id": "view-in-github",
        "colab_type": "text"
      },
      "source": [
        "<a href=\"https://colab.research.google.com/github/ZyadAshraf7/Data-Science-Project/blob/main/ssipynb.ipynb\" target=\"_parent\"><img src=\"https://colab.research.google.com/assets/colab-badge.svg\" alt=\"Open In Colab\"/></a>"
      ]
    },
    {
      "cell_type": "code",
      "execution_count": null,
      "metadata": {
        "colab": {
          "base_uri": "https://localhost:8080/",
          "height": 91
        },
        "id": "mM995mPyk0rR",
        "outputId": "5960ce3f-2e00-4a27-8e15-7af05893b119"
      },
      "outputs": [
        {
          "output_type": "display_data",
          "data": {
            "text/plain": [
              "<IPython.core.display.HTML object>"
            ],
            "text/html": [
              "\n",
              "     <input type=\"file\" id=\"files-c2a070f9-5bb0-461a-915b-a9d04e4e2a58\" name=\"files[]\" multiple disabled\n",
              "        style=\"border:none\" />\n",
              "     <output id=\"result-c2a070f9-5bb0-461a-915b-a9d04e4e2a58\">\n",
              "      Upload widget is only available when the cell has been executed in the\n",
              "      current browser session. Please rerun this cell to enable.\n",
              "      </output>\n",
              "      <script>// Copyright 2017 Google LLC\n",
              "//\n",
              "// Licensed under the Apache License, Version 2.0 (the \"License\");\n",
              "// you may not use this file except in compliance with the License.\n",
              "// You may obtain a copy of the License at\n",
              "//\n",
              "//      http://www.apache.org/licenses/LICENSE-2.0\n",
              "//\n",
              "// Unless required by applicable law or agreed to in writing, software\n",
              "// distributed under the License is distributed on an \"AS IS\" BASIS,\n",
              "// WITHOUT WARRANTIES OR CONDITIONS OF ANY KIND, either express or implied.\n",
              "// See the License for the specific language governing permissions and\n",
              "// limitations under the License.\n",
              "\n",
              "/**\n",
              " * @fileoverview Helpers for google.colab Python module.\n",
              " */\n",
              "(function(scope) {\n",
              "function span(text, styleAttributes = {}) {\n",
              "  const element = document.createElement('span');\n",
              "  element.textContent = text;\n",
              "  for (const key of Object.keys(styleAttributes)) {\n",
              "    element.style[key] = styleAttributes[key];\n",
              "  }\n",
              "  return element;\n",
              "}\n",
              "\n",
              "// Max number of bytes which will be uploaded at a time.\n",
              "const MAX_PAYLOAD_SIZE = 100 * 1024;\n",
              "\n",
              "function _uploadFiles(inputId, outputId) {\n",
              "  const steps = uploadFilesStep(inputId, outputId);\n",
              "  const outputElement = document.getElementById(outputId);\n",
              "  // Cache steps on the outputElement to make it available for the next call\n",
              "  // to uploadFilesContinue from Python.\n",
              "  outputElement.steps = steps;\n",
              "\n",
              "  return _uploadFilesContinue(outputId);\n",
              "}\n",
              "\n",
              "// This is roughly an async generator (not supported in the browser yet),\n",
              "// where there are multiple asynchronous steps and the Python side is going\n",
              "// to poll for completion of each step.\n",
              "// This uses a Promise to block the python side on completion of each step,\n",
              "// then passes the result of the previous step as the input to the next step.\n",
              "function _uploadFilesContinue(outputId) {\n",
              "  const outputElement = document.getElementById(outputId);\n",
              "  const steps = outputElement.steps;\n",
              "\n",
              "  const next = steps.next(outputElement.lastPromiseValue);\n",
              "  return Promise.resolve(next.value.promise).then((value) => {\n",
              "    // Cache the last promise value to make it available to the next\n",
              "    // step of the generator.\n",
              "    outputElement.lastPromiseValue = value;\n",
              "    return next.value.response;\n",
              "  });\n",
              "}\n",
              "\n",
              "/**\n",
              " * Generator function which is called between each async step of the upload\n",
              " * process.\n",
              " * @param {string} inputId Element ID of the input file picker element.\n",
              " * @param {string} outputId Element ID of the output display.\n",
              " * @return {!Iterable<!Object>} Iterable of next steps.\n",
              " */\n",
              "function* uploadFilesStep(inputId, outputId) {\n",
              "  const inputElement = document.getElementById(inputId);\n",
              "  inputElement.disabled = false;\n",
              "\n",
              "  const outputElement = document.getElementById(outputId);\n",
              "  outputElement.innerHTML = '';\n",
              "\n",
              "  const pickedPromise = new Promise((resolve) => {\n",
              "    inputElement.addEventListener('change', (e) => {\n",
              "      resolve(e.target.files);\n",
              "    });\n",
              "  });\n",
              "\n",
              "  const cancel = document.createElement('button');\n",
              "  inputElement.parentElement.appendChild(cancel);\n",
              "  cancel.textContent = 'Cancel upload';\n",
              "  const cancelPromise = new Promise((resolve) => {\n",
              "    cancel.onclick = () => {\n",
              "      resolve(null);\n",
              "    };\n",
              "  });\n",
              "\n",
              "  // Wait for the user to pick the files.\n",
              "  const files = yield {\n",
              "    promise: Promise.race([pickedPromise, cancelPromise]),\n",
              "    response: {\n",
              "      action: 'starting',\n",
              "    }\n",
              "  };\n",
              "\n",
              "  cancel.remove();\n",
              "\n",
              "  // Disable the input element since further picks are not allowed.\n",
              "  inputElement.disabled = true;\n",
              "\n",
              "  if (!files) {\n",
              "    return {\n",
              "      response: {\n",
              "        action: 'complete',\n",
              "      }\n",
              "    };\n",
              "  }\n",
              "\n",
              "  for (const file of files) {\n",
              "    const li = document.createElement('li');\n",
              "    li.append(span(file.name, {fontWeight: 'bold'}));\n",
              "    li.append(span(\n",
              "        `(${file.type || 'n/a'}) - ${file.size} bytes, ` +\n",
              "        `last modified: ${\n",
              "            file.lastModifiedDate ? file.lastModifiedDate.toLocaleDateString() :\n",
              "                                    'n/a'} - `));\n",
              "    const percent = span('0% done');\n",
              "    li.appendChild(percent);\n",
              "\n",
              "    outputElement.appendChild(li);\n",
              "\n",
              "    const fileDataPromise = new Promise((resolve) => {\n",
              "      const reader = new FileReader();\n",
              "      reader.onload = (e) => {\n",
              "        resolve(e.target.result);\n",
              "      };\n",
              "      reader.readAsArrayBuffer(file);\n",
              "    });\n",
              "    // Wait for the data to be ready.\n",
              "    let fileData = yield {\n",
              "      promise: fileDataPromise,\n",
              "      response: {\n",
              "        action: 'continue',\n",
              "      }\n",
              "    };\n",
              "\n",
              "    // Use a chunked sending to avoid message size limits. See b/62115660.\n",
              "    let position = 0;\n",
              "    do {\n",
              "      const length = Math.min(fileData.byteLength - position, MAX_PAYLOAD_SIZE);\n",
              "      const chunk = new Uint8Array(fileData, position, length);\n",
              "      position += length;\n",
              "\n",
              "      const base64 = btoa(String.fromCharCode.apply(null, chunk));\n",
              "      yield {\n",
              "        response: {\n",
              "          action: 'append',\n",
              "          file: file.name,\n",
              "          data: base64,\n",
              "        },\n",
              "      };\n",
              "\n",
              "      let percentDone = fileData.byteLength === 0 ?\n",
              "          100 :\n",
              "          Math.round((position / fileData.byteLength) * 100);\n",
              "      percent.textContent = `${percentDone}% done`;\n",
              "\n",
              "    } while (position < fileData.byteLength);\n",
              "  }\n",
              "\n",
              "  // All done.\n",
              "  yield {\n",
              "    response: {\n",
              "      action: 'complete',\n",
              "    }\n",
              "  };\n",
              "}\n",
              "\n",
              "scope.google = scope.google || {};\n",
              "scope.google.colab = scope.google.colab || {};\n",
              "scope.google.colab._files = {\n",
              "  _uploadFiles,\n",
              "  _uploadFilesContinue,\n",
              "};\n",
              "})(self);\n",
              "</script> "
            ]
          },
          "metadata": {}
        },
        {
          "output_type": "stream",
          "name": "stdout",
          "text": [
            "Saving kaggle.json to kaggle.json\n",
            "User uploaded file \"kaggle.json\" with length 67 bytes\n"
          ]
        }
      ],
      "source": [
        "from google.colab import files\n",
        "uploaded = files.upload()\n",
        "\n",
        "for fn in uploaded.keys():\n",
        "  print('User uploaded file \"{name}\" with length {length} bytes'.format(\n",
        "      name=fn, length=len(uploaded[fn])))\n",
        "  \n",
        "# Then move kaggle.json into the folder where the API expects to find it.\n",
        "!mkdir -p ~/.kaggle/ && mv kaggle.json ~/.kaggle/ && chmod 600 ~/.kaggle/kaggle.json"
      ]
    },
    {
      "cell_type": "code",
      "source": [
        "!kaggle datasets download -d andrewmvd/leukemia-classification"
      ],
      "metadata": {
        "id": "RuZfTqX0lDdt"
      },
      "execution_count": null,
      "outputs": []
    },
    {
      "cell_type": "code",
      "source": [
        "from zipfile import ZipFile\n",
        "file_name = \"/content/leukemia-classification.zip\"\n",
        "with ZipFile(file_name,'r') as zip:\n",
        "  zip.extractall()\n",
        "  print('Done unzip files...')"
      ],
      "metadata": {
        "id": "2WFuEqsclIz-"
      },
      "execution_count": null,
      "outputs": []
    },
    {
      "cell_type": "code",
      "source": [
        "#imports\n",
        "\n",
        "import matplotlib.pyplot as plt\n",
        "import numpy as np\n",
        "import pandas as pd\n",
        "import os\n",
        "import PIL\n",
        "from PIL import Image\n",
        "import tensorflow as tf\n",
        "from tensorflow.keras.layers import Input, Lambda, Conv2D\n",
        "from tensorflow import keras\n",
        "from tensorflow.keras import layers\n",
        "from tensorflow.python.keras.layers import Dense, Flatten\n",
        "from tensorflow.keras.models import Sequential\n",
        "from tensorflow.keras.models import Model\n",
        "from tensorflow.keras.optimizers import Adam\n",
        "import random\n",
        "import cv2\n",
        "import matplotlib.pyplot as plt\n",
        "from matplotlib.pyplot import imshow\n",
        "from timeit import default_timer as timer\n",
        "from tensorflow.keras.models import Sequential\n",
        "from keras.utils.np_utils import to_categorical\n",
        "from tensorflow.keras.preprocessing import image\n",
        "from tensorflow.keras import models, layers, optimizers\n",
        "from tensorflow.keras.preprocessing.image import ImageDataGenerator\n",
        "from tensorflow.keras.layers import Input, Dense, Activation, Flatten, Conv2D, MaxPool2D ,Dropout\n",
        "\n"
      ],
      "metadata": {
        "id": "32u6Cb4olIwc"
      },
      "execution_count": null,
      "outputs": []
    },
    {
      "cell_type": "code",
      "source": [],
      "metadata": {
        "id": "T1QXGhAfNHVa"
      },
      "execution_count": null,
      "outputs": []
    },
    {
      "cell_type": "code",
      "source": [
        "#reading data from its files\n",
        "all_0 = \"/content/C-NMC_Leukemia/training_data/fold_0/all\"\n",
        "all_1 = \"/content/C-NMC_Leukemia/training_data/fold_1/all\"\n",
        "all_2 = \"/content/C-NMC_Leukemia/training_data/fold_2/all\"\n",
        "hem_0 = \"/content/C-NMC_Leukemia/training_data/fold_0/hem\"\n",
        "hem_1 = \"/content/C-NMC_Leukemia/training_data/fold_1/hem\"\n",
        "hem_2 = \"/content/C-NMC_Leukemia/training_data/fold_2/hem\"\n",
        "path_val ='/content/C-NMC_Leukemia/validation_data/C-NMC_test_prelim_phase_data'\n",
        "val_labels = pd.read_csv('/content/C-NMC_Leukemia/validation_data/C-NMC_test_prelim_phase_data_labels.csv')\n"
      ],
      "metadata": {
        "id": "LF6vwP6nlIuV"
      },
      "execution_count": null,
      "outputs": []
    },
    {
      "cell_type": "code",
      "source": [
        "def get_path_image(folder):\n",
        "    image_paths = []\n",
        "    image_fnames = os.listdir(folder) \n",
        "    for img_id in range(len(image_fnames)):\n",
        "        img = os.path.join(folder,image_fnames[img_id])\n",
        "        image_paths.append(img)\n",
        "    \n",
        "    return image_paths\n",
        "    \n",
        "cancer_lst = []\n",
        "\n",
        "for i in [all_0,all_1,all_2]:\n",
        "    paths = get_path_image(i)\n",
        "    cancer_lst.extend(paths)\n",
        "print('No. of cancer images:', len(cancer_lst))\n",
        "\n",
        "normal_lst = []\n",
        "for i in [hem_0,hem_1,hem_2]:\n",
        "    paths = get_path_image(i)\n",
        "    normal_lst.extend(paths)\n",
        "print('No. of normal images:', len(normal_lst))\n"
      ],
      "metadata": {
        "id": "W8tAVUWSlIr8"
      },
      "execution_count": null,
      "outputs": []
    },
    {
      "cell_type": "code",
      "source": [
        "cancer_dict = {\"x_col\":cancer_lst, \"y_col\":[np.nan for x in range(len(cancer_lst))]}\n",
        "cancer_dict[\"y_col\"] = \"ALL\"\n",
        "#print(cancer_dict)\n",
        "\n",
        "normal_dict = {\"x_col\":normal_lst, \"y_col\":[np.nan for x in range(len(normal_lst))]}\n",
        "normal_dict[\"y_col\"] = \"HEM\"\n",
        "\n",
        "\n",
        "cancer_df = pd.DataFrame(cancer_dict)\n",
        "normal_df = pd.DataFrame(normal_dict)\n",
        "\n",
        "# select_normal = np.random.choice(normal_lst, 3, replace = False)\n",
        "# select_all = np.random.choice(cancer_lst, 3, replace = False)\n",
        "\n",
        "print(cancer_df)"
      ],
      "metadata": {
        "id": "a_qvhGQGlIp1"
      },
      "execution_count": null,
      "outputs": []
    },
    {
      "cell_type": "code",
      "source": [
        "#Reading the training data\n",
        "train_df = cancer_df.append(normal_df, ignore_index=True)\n",
        "#shuffling\n",
        "train_df = train_df.sample(frac = 1)\n",
        "#print(train_df)\n",
        "#Reading the validation data -> not labeled\n",
        "validation_list = get_path_image(path_val)\n",
        "\n",
        "#Convert the list to a dictionary. The labels are stored in the val_labels\n",
        "#we create a dictionary with x as the file name and y as the labels\n",
        "#The labels are having 0's and 1's.\n",
        "#0 means normal and 1 means cancer - ALL\n",
        "\n",
        "validation_dict = {\"x_col\":validation_list ,\"y_col\":val_labels[\"labels\"]}\n",
        "#print(validation_dict)\n",
        "validation_df = pd.DataFrame(validation_dict)\n",
        "#print(validation_df)\n",
        "#1 -> ALL , 0 -> HEM\n",
        "validation_df[\"y_col\"].replace(to_replace = [1,0], value = [\"ALL\",\"HEM\"], inplace = True)\n"
      ],
      "metadata": {
        "id": "eW6VwVnvlInl"
      },
      "execution_count": null,
      "outputs": []
    },
    {
      "cell_type": "code",
      "source": [
        "test_data = '/content/C-NMC_Leukemia/testing_data/C-NMC_test_final_phase_data'\n",
        "test_list = get_path_image(test_data)\n",
        "\n",
        "test_dict = {\"x_col\":test_list}\n",
        "test_df = pd.DataFrame(test_dict)"
      ],
      "metadata": {
        "id": "dOgYtV9U6SPw"
      },
      "execution_count": null,
      "outputs": []
    },
    {
      "cell_type": "code",
      "source": [
        "#pre\n",
        "train_datagen = ImageDataGenerator(rescale=1./255)\n",
        "train_generator = train_datagen.flow_from_dataframe(\n",
        "                  train_df,\n",
        "                  x_col = \"x_col\",\n",
        "                  y_col = \"y_col\",\n",
        "                  target_size = (224, 224), \n",
        "                  batch_size = 32,\n",
        "                  color_mode = \"rgb\",\n",
        "                  shuffle = True,\n",
        "                  class_mode = \"binary\"\n",
        ")"
      ],
      "metadata": {
        "id": "zlLTo_0G6U02"
      },
      "execution_count": null,
      "outputs": []
    },
    {
      "cell_type": "code",
      "source": [
        "val_datagen = ImageDataGenerator(rescale=1./255)\n",
        "validation_generator = val_datagen.flow_from_dataframe(\n",
        "                  validation_df,\n",
        "                  x_col = \"x_col\",\n",
        "                  y_col = \"y_col\",\n",
        "                  target_size = (224, 224),                  \n",
        "                  batch_size = 32,\n",
        "                  color_mode = \"rgb\",\n",
        "                  shuffle = True,\n",
        "                  class_mode = \"binary\")"
      ],
      "metadata": {
        "id": "TQCnN2Es6btA"
      },
      "execution_count": null,
      "outputs": []
    },
    {
      "cell_type": "code",
      "source": [
        "test_datagen = ImageDataGenerator(rescale=1./255 )\n",
        "test_generator = test_datagen.flow_from_dataframe(\n",
        "                  test_df,\n",
        "                  x_col = \"x_col\",\n",
        "                  target_size = (244, 224),\n",
        "                  color_mode = \"rgb\",\n",
        "                  class_mode = None,\n",
        "                  shuffle = False\n",
        ")"
      ],
      "metadata": {
        "id": "ERpebKeh6bqp"
      },
      "execution_count": null,
      "outputs": []
    },
    {
      "cell_type": "code",
      "source": [
        "#free memory from DFs\n",
        "del test_df\n",
        "del train_df\n",
        "del validation_df"
      ],
      "metadata": {
        "id": "1i7t3Ht0Swmn"
      },
      "execution_count": null,
      "outputs": []
    },
    {
      "cell_type": "code",
      "source": [
        "model = Sequential()\n",
        "# input_shape = (224, 244, 3)\n",
        "# input_img = Input(shape= input_shape, name = 'img_input')\n",
        "pretrained_model = tf.keras.applications.ResNet50(\n",
        "    include_top=False,\n",
        "    input_shape=(224,224,3),\n",
        "    pooling='max',\n",
        "    classes=2,\n",
        "    weights='imagenet'\n",
        ")\n",
        "\n",
        "\n",
        "\n",
        "\n",
        "\n"
      ],
      "metadata": {
        "id": "BvS6fdTN6qfR"
      },
      "execution_count": null,
      "outputs": []
    },
    {
      "cell_type": "code",
      "source": [
        "#freezing\n",
        "for layer in pretrained_model.layers:\n",
        "    layer.trainable = False"
      ],
      "metadata": {
        "id": "0bLn_RAGQgjP"
      },
      "execution_count": null,
      "outputs": []
    },
    {
      "cell_type": "code",
      "source": [
        "#Fully Connected layer\n",
        "\n",
        "model.add(pretrained_model)\n",
        "model.add(Flatten())\n",
        "model.add(Dense(64,activation='relu',name ='fully_layer1'))\n",
        "model.add(Dense(32,activation='relu',name ='fully_layer2'))\n",
        "model.add(Dense(16,activation='relu',name ='fully_layer3'))\n",
        "model.add(Dense(5,activation='relu' ,name ='fully_layer4'))\n",
        "model.add(Dropout(0.5))\n",
        "\n",
        "model.add(Dense(1,activation='sigmoid'))\n",
        "\n",
        "# this layer was missing\n",
        "# model = tf.keras.Model(inputs=input_img, outputs= model)\n"
      ],
      "metadata": {
        "id": "M5kgmhWU6qdP"
      },
      "execution_count": null,
      "outputs": []
    },
    {
      "cell_type": "code",
      "source": [
        "#summary \n",
        "model.summary()"
      ],
      "metadata": {
        "id": "wq4wSuZc6qam"
      },
      "execution_count": null,
      "outputs": []
    },
    {
      "cell_type": "code",
      "source": [
        "model.compile(optimizer='adam',loss='binary_crossentropy',metrics=['accuracy'])"
      ],
      "metadata": {
        "id": "tbl_dBEs6qU_"
      },
      "execution_count": null,
      "outputs": []
    },
    {
      "cell_type": "code",
      "source": [
        "# start = timer()\n",
        "history = model.fit_generator(train_generator,validation_data=validation_generator,epochs=40)\n",
        "# end = timer()\n",
        "\n",
        "# time = end - start\n",
        "# print ( print('Total Time Elapsed: ', int(time//60), ' minutes ', (round(time%60)), ' seconds'))"
      ],
      "metadata": {
        "id": "7TYaGb0R8LSC"
      },
      "execution_count": null,
      "outputs": []
    },
    {
      "cell_type": "code",
      "source": [
        "def load_image(img_path, show=False):\n",
        "\n",
        "    img = image.load_img(img_path, target_size=(224, 224))\n",
        "    img_tensor = image.img_to_array(img)                    # (height, width, channels)\n",
        "    img_tensor = np.expand_dims(img_tensor, axis=0)         # (1, height, width, channels), add a dimension because the model expects this shape: (batch_size, height, width, channels)\n",
        "    img_tensor /= 255.                                      # imshow expects values in the range [0, 1]\n",
        "\n",
        "\n",
        "    return img_tensor\n",
        "\n",
        "\n",
        "new_img = load_image('/content/C-NMC_Leukemia/testing_data/C-NMC_test_final_phase_data/1077.bmp')\n",
        "#print(new_img)\n",
        "y_predict = model.predict(new_img)\n",
        "\n",
        "if(y_predict>=0.5):\n",
        "    y_predict=1\n",
        "    print(\"this patient has cancer\")\n",
        "else:\n",
        "    y_predict=0 \n",
        "    print(\"this patinet is normal\")    \n",
        "\n",
        "print(y_predict)"
      ],
      "metadata": {
        "id": "4PbruqoYYYAr"
      },
      "execution_count": null,
      "outputs": []
    },
    {
      "cell_type": "code",
      "source": [],
      "metadata": {
        "id": "Cqa96uPP1w1b"
      },
      "execution_count": null,
      "outputs": []
    }
  ]
}